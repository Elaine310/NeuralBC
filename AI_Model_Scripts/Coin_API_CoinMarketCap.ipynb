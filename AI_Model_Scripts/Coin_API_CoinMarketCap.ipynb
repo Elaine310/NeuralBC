{
 "cells": [
  {
   "cell_type": "code",
   "execution_count": 61,
   "metadata": {},
   "outputs": [
    {
     "name": "stdout",
     "output_type": "stream",
     "text": [
      "Today is 20180724\n"
     ]
    }
   ],
   "source": [
    "import requests\n",
    "from bs4 import BeautifulSoup\n",
    "import pandas as pd\n",
    "from datetime import date\n",
    "\n",
    "today = date.today()\n",
    "today = today.strftime('%Y%m%d')\n",
    "print(\"Today is %s\" % today)\n",
    "\n",
    "r = requests.get(\"https://coinmarketcap.com/currencies/bitcoin/historical-data/?start=20130428&end=%s\" % today)\n",
    "soup = BeautifulSoup(r.text, 'html.parser')\n",
    "results = soup.select('tr > td')\n",
    "\n",
    "count = soup.find_all('td', attrs={'class':'text-left'})\n",
    "\n",
    "records = []\n",
    "\n",
    "for i in range(len(count)):\n",
    "    date = results[7 * i].text\n",
    "    close = results[7 * i + 4].text\n",
    "    records.append((date, close))\n",
    "    \n",
    "records.reverse()\n",
    "\n",
    "df = pd.DataFrame(records, columns=['date', 'close'])\n",
    "df.to_csv('bitcoin_price.csv', index=False, encoding='utf-8')"
   ]
  },
  {
   "cell_type": "code",
   "execution_count": 68,
   "metadata": {},
   "outputs": [],
   "source": [
    "import pandas as pd\n",
    "import time\n",
    "\n",
    "historical_data = pd.read_html(\"https://coinmarketcap.com/currencies/bitcoin/historical-data/?start=20130428&end=\" + time.strftime(\"%Y%m%d\"))[0]\n",
    "historical_data = historical_data.assign(Date=pd.to_datetime(historical_data['Date']))\n",
    "historical_data.loc[historical_data['Volume']==\"-\",'Volume']=0\n",
    "historical_data.to_csv('bitcoin_price.csv', index=False, encoding='utf-8')"
   ]
  },
  {
   "cell_type": "code",
   "execution_count": 67,
   "metadata": {},
   "outputs": [
    {
     "name": "stderr",
     "output_type": "stream",
     "text": [
      "D:\\Anaconda3\\lib\\site-packages\\pandas\\core\\indexing.py:1472: FutureWarning: \n",
      "Passing list-likes to .loc or [] with any missing label will raise\n",
      "KeyError in the future, you can use .reindex() as an alternative.\n",
      "\n",
      "See the documentation here:\n",
      "https://pandas.pydata.org/pandas-docs/stable/indexing.html#deprecate-loc-reindex-listlike\n",
      "  return self._getitem_tuple(key)\n"
     ]
    }
   ],
   "source": [
    "import pandas as pd\n",
    "import time\n",
    "\n",
    "historical_data = pd.read_html(\"https://coinmarketcap.com/currencies/ethereum/historical-data/?start=20150807&end=\" + time.strftime(\"%Y%m%d\"))[0]\n",
    "historical_data = historical_data.assign(Date=pd.to_datetime(historical_data['Date']))\n",
    "historical_data.loc[:, ['Open', 'Volume']]\n",
    "historical_data.to_csv('ethereum_price.csv', index=False, encoding='utf-8')"
   ]
  },
  {
   "cell_type": "code",
   "execution_count": null,
   "metadata": {},
   "outputs": [],
   "source": []
  }
 ],
 "metadata": {
  "kernelspec": {
   "display_name": "Python 3",
   "language": "python",
   "name": "python3"
  },
  "language_info": {
   "codemirror_mode": {
    "name": "ipython",
    "version": 3
   },
   "file_extension": ".py",
   "mimetype": "text/x-python",
   "name": "python",
   "nbconvert_exporter": "python",
   "pygments_lexer": "ipython3",
   "version": "3.6.5"
  }
 },
 "nbformat": 4,
 "nbformat_minor": 2
}
